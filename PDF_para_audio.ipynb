{
  "nbformat": 4,
  "nbformat_minor": 0,
  "metadata": {
    "colab": {
      "name": "PDF_para_audio.ipynb",
      "provenance": [],
      "authorship_tag": "ABX9TyNHaSGSApeEep8ZBWtHaPV9",
      "include_colab_link": true
    },
    "kernelspec": {
      "name": "python3",
      "display_name": "Python 3"
    },
    "language_info": {
      "name": "python"
    }
  },
  "cells": [
    {
      "cell_type": "markdown",
      "metadata": {
        "id": "view-in-github",
        "colab_type": "text"
      },
      "source": [
        "<a href=\"https://colab.research.google.com/github/kelvincrdz/Conversor-de-PDF-em-AudioBook/blob/main/PDF_para_audio.ipynb\" target=\"_parent\"><img src=\"https://colab.research.google.com/assets/colab-badge.svg\" alt=\"Open In Colab\"/></a>"
      ]
    },
    {
      "cell_type": "code",
      "execution_count": null,
      "metadata": {
        "id": "W8_nmURy6gzH"
      },
      "outputs": [],
      "source": [
        "!pip install pygame\n",
        "!pip install gTTS\n",
        "!pip install fitz"
      ]
    },
    {
      "cell_type": "code",
      "source": [
        "import io\n",
        "import os\n",
        "import pygame\n",
        "from gtts import gTTS\n",
        "import fitz\n"
      ],
      "metadata": {
        "id": "eo6MjVpJ6mLb"
      },
      "execution_count": 68,
      "outputs": []
    },
    {
      "cell_type": "code",
      "source": [
        "def get_text(filepath: str) -> str:\n",
        "    with fitz.open(filepath) as doc:\n",
        "        text = \"\"\n",
        "        for page in doc:\n",
        "            text += page.getText().strip()\n",
        "        \n",
        "        text = text.replace(\"\\n\",\" \")\n",
        "        return text\n",
        "\n",
        "def falar_texto(texto, opcao):\n",
        "\n",
        "    if opcao == 1:\n",
        "        with open('audio.mp3', 'wb') as arquivo:\n",
        "            gTTS(text=texto, lang=\"pt-br\").write_to_fp(arquivo)\n",
        "    else:\n",
        "        with io.BytesIO() as arquivo:\n",
        "            gTTS(text=texto, lang=\"pt-br\").write_to_fp(arquivo)\n",
        "            arquivo.seek(0)\n",
        "            pygame.mixer.init()\n",
        "            pygame.mixer.music.load(arquivo)\n",
        "            pygame.mixer.music.play()\n",
        "            while pygame.mixer.music.get_busy():\n",
        "                continue"
      ],
      "metadata": {
        "id": "xva2QB9m6n6Z"
      },
      "execution_count": 119,
      "outputs": []
    },
    {
      "cell_type": "code",
      "source": [
        "\n",
        "def main():\n",
        "\n",
        "    while True:\n",
        "        os.system(\"cls || clear\")\n",
        "\n",
        "        txt = str(input('''\n",
        "        digite o caminho do arquivo de PDF\n",
        "        '''))\n",
        "\n",
        "        opcao = int(input('''\n",
        "        [1] Salvar arquivo de áudio\n",
        "        [2] Apenas ouvir o áudio \n",
        "        \n",
        "        Escolha sua opção: '''))\n",
        "\n",
        "        if opcao == 1 or opcao == 2:\n",
        "            texto = txt\n",
        "            break\n",
        "        else:\n",
        "            continue\n",
        "\n",
        "\n",
        "    falar_texto(get_text(texto), opcao)\n"
      ],
      "metadata": {
        "id": "0f1xjA9E6q54"
      },
      "execution_count": 126,
      "outputs": []
    },
    {
      "cell_type": "code",
      "source": [
        "if __name__ == '__main__':\n",
        "    main()\n",
        "    \n"
      ],
      "metadata": {
        "id": "pPFdtSht6saw"
      },
      "execution_count": null,
      "outputs": []
    }
  ]
}